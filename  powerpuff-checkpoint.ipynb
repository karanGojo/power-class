{
 "cells": [
  {
   "cell_type": "code",
   "execution_count": null,
   "id": "320db870",
   "metadata": {},
   "outputs": [],
   "source": [
    "class powerpuff:\n",
    "    def powr(self,x,y):\n",
    "        if x==0 or x==1 or y==1:\n",
    "            return x\n",
    "    if x==-1:\n",
    "        if n%2==0:\n",
    "            return 1\n",
    "        else:\n",
    "            return -1\n",
    "        if n==0:\n",
    "            return:1\n",
    "        if n<0:\n",
    "            return 1/self.powerpuff(x,-y)\n",
    "        val= self.powerpuff(x,y//2)\n",
    "        if n%2==0:\n",
    "            return val*val\n",
    "        return val*valx\n",
    "x = int(input(\"enter the x value:\"))\n",
    "y =  int(input(\"enter the y value:\"))   \n",
    "print(\"powerpuff(x,y)value is :\",powerpuff().powr(x,y))"
   ]
  },
  {
   "cell_type": "code",
   "execution_count": null,
   "id": "f96d92b0",
   "metadata": {},
   "outputs": [],
   "source": []
  }
 ],
 "metadata": {
  "kernelspec": {
   "display_name": "Python 3 (ipykernel)",
   "language": "python",
   "name": "python3"
  },
  "language_info": {
   "codemirror_mode": {
    "name": "ipython",
    "version": 3
   },
   "file_extension": ".py",
   "mimetype": "text/x-python",
   "name": "python",
   "nbconvert_exporter": "python",
   "pygments_lexer": "ipython3",
   "version": "3.9.12"
  }
 },
 "nbformat": 4,
 "nbformat_minor": 5
}
